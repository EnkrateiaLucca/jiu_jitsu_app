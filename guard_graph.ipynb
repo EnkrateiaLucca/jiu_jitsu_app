{
 "cells": [
  {
   "cell_type": "code",
   "execution_count": 53,
   "id": "d77360f5",
   "metadata": {
    "ExecuteTime": {
     "end_time": "2022-11-13T12:57:58.019728Z",
     "start_time": "2022-11-13T12:57:57.795495Z"
    }
   },
   "outputs": [],
   "source": [
    "from pyvis.network import Network"
   ]
  },
  {
   "cell_type": "code",
   "execution_count": 54,
   "id": "e3eb1c82",
   "metadata": {
    "ExecuteTime": {
     "end_time": "2022-11-13T13:07:32.604702Z",
     "start_time": "2022-11-13T13:07:32.601542Z"
    }
   },
   "outputs": [],
   "source": [
    "net = Network()"
   ]
  },
  {
   "cell_type": "code",
   "execution_count": 55,
   "id": "c5b6a33f",
   "metadata": {
    "ExecuteTime": {
     "end_time": "2022-11-13T13:07:32.894208Z",
     "start_time": "2022-11-13T13:07:32.891366Z"
    }
   },
   "outputs": [],
   "source": [
    "# Create the Basic Moves as Nodes on a Graph\n",
    "net.add_node(1, label=\"2-1\",title=\"<a href='https://www.youtube.com/watch?v=wBtM_rx8kHk'> 2-1 </a>\")\n",
    "net.add_node(2,label=\"Opponent Posts\", title=\"<a href='https://www.youtube.com/watch?v=HCX-r7CEaFI'> Post on the Head </a>\")\n",
    "net.add_node(3,label=\"Double Leg\", title=\"<a href='https://www.youtube.com/watch?v=F60XQdZn298&ab_channel=FANATICWRESTLING'> Double Leg </a>\")\n",
    "net.add_node(4, label=\"Pin\", title=\"<a href='https://www.youtube.com/watch?v=F60XQdZn298&ab_channel=FANATICWRESTLING'> Double Leg Pin </a>\")"
   ]
  },
  {
   "cell_type": "code",
   "execution_count": 59,
   "id": "27bd9ee6",
   "metadata": {
    "ExecuteTime": {
     "end_time": "2022-11-13T13:07:33.740780Z",
     "start_time": "2022-11-13T13:07:33.737912Z"
    }
   },
   "outputs": [],
   "source": [
    "# Create the Edges as transitions between the basic moves or states of the fight\n",
    "net.add_edge(1,2, weight=5, label='2-1->double', title=\"<a href='https://www.youtube.com/watch?v=QP_Bzjixf9g'> 2-1 to Double </a>\")\n",
    "net.add_edge(2,3, weight=5, label='2-1->double',title=\"<a href='https://www.youtube.com/watch?v=QP_Bzjixf9g'> 2-1 to Double </a>\")\n",
    "net.add_edge(3,4, weight=5, label='2-1->double',title=\"<a href='https://www.youtube.com/watch?v=QP_Bzjixf9g'> 2-1 to Double </a>\")"
   ]
  },
  {
   "cell_type": "code",
   "execution_count": 60,
   "id": "689d0e1c",
   "metadata": {
    "ExecuteTime": {
     "end_time": "2022-11-13T13:07:34.409217Z",
     "start_time": "2022-11-13T13:07:34.123931Z"
    }
   },
   "outputs": [],
   "source": [
    "# Export the graph to an html file\n",
    "net.toggle_physics(False)\n",
    "net.show(\"guard_graph.html\")"
   ]
  }
 ],
 "metadata": {
  "hide_input": false,
  "kernelspec": {
   "display_name": "explore",
   "language": "python",
   "name": "explore"
  },
  "language_info": {
   "codemirror_mode": {
    "name": "ipython",
    "version": 3
   },
   "file_extension": ".py",
   "mimetype": "text/x-python",
   "name": "python",
   "nbconvert_exporter": "python",
   "pygments_lexer": "ipython3",
   "version": "3.8.0"
  },
  "toc": {
   "base_numbering": 1,
   "nav_menu": {},
   "number_sections": true,
   "sideBar": true,
   "skip_h1_title": false,
   "title_cell": "Table of Contents",
   "title_sidebar": "Contents",
   "toc_cell": false,
   "toc_position": {},
   "toc_section_display": true,
   "toc_window_display": false
  },
  "varInspector": {
   "cols": {
    "lenName": 16,
    "lenType": 16,
    "lenVar": 40
   },
   "kernels_config": {
    "python": {
     "delete_cmd_postfix": "",
     "delete_cmd_prefix": "del ",
     "library": "var_list.py",
     "varRefreshCmd": "print(var_dic_list())"
    },
    "r": {
     "delete_cmd_postfix": ") ",
     "delete_cmd_prefix": "rm(",
     "library": "var_list.r",
     "varRefreshCmd": "cat(var_dic_list()) "
    }
   },
   "types_to_exclude": [
    "module",
    "function",
    "builtin_function_or_method",
    "instance",
    "_Feature"
   ],
   "window_display": false
  }
 },
 "nbformat": 4,
 "nbformat_minor": 5
}
